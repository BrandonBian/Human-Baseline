{
 "cells": [
  {
   "cell_type": "markdown",
   "metadata": {},
   "source": [
    "# — Human Baseline: Labeling Body Material —"
   ]
  },
  {
   "cell_type": "markdown",
   "metadata": {},
   "source": [
    "# Step 0: Preparation for labeling"
   ]
  },
  {
   "cell_type": "markdown",
   "metadata": {},
   "source": [
    "### Before you start labeling, please make sure the following steps are taken:\n",
    "\n",
    "0. You have **deleted all old/useless images in folder \"bodies_to_be_labeled\"** and **deleted all old/useless label CSV files in folder \"labels\"**;\n",
    "1. You have downloaded your responsible dataset packet from Google Drive, and have copied **ALL images** from it to the folder \"bodies_to_be_labeled\";\n",
    "2. You have indicated on the **spreadsheet** that you have downloaded your responsible dataset packet for labeling;\n",
    "3. \\[Can Ignore\\]: You have run **\"git pull\"** to obtain the latest code (if applicable) for dataset labeling;\n",
    "4. You have **sufficient time and energy** to complete the labeling (ideally in one go);\n",
    "5. **DON'T close the Windows Powershell (or Anaconda window)** unless you have completed all labeling (as it will shutdown your kernel).\n",
    "\n",
    "*TIP 1:* Select a cell, and press **\"Ctrl+Enter\"** to run that cell.\n",
    "\n",
    "*TIP 2:* To resume from the place you left, rerun all cells, and put in your name and dataset ID EXACTLY as before.\n",
    "\n",
    "### Packages that you may need to install:\n",
    "\n",
    "1. pandas (\"pip install pandas\")\n",
    "2. matplotlib (\"pip install matplotlib\")\n",
    "3. ipywidgets (\"pip install ipywidgets\")\n",
    "4. meshplot (\"conda install -c conda-forge meshplot\") - You need anaconda installed first\n",
    "5. igl (\"conda install -c conda-forge igl\") - You need anaconda installed first"
   ]
  },
  {
   "cell_type": "markdown",
   "metadata": {},
   "source": [
    "# Step 0.5: Import all necessary packages / libraries"
   ]
  },
  {
   "cell_type": "code",
   "execution_count": 1,
   "metadata": {
    "pycharm": {
     "name": "#%%\n"
    },
    "scrolled": false
   },
   "outputs": [
    {
     "name": "stdout",
     "output_type": "stream",
     "text": [
      "All libraries imported correctly - ready for the next step!\n"
     ]
    }
   ],
   "source": [
    "# Import Packages\n",
    "\n",
    "# !git pull\n",
    "\n",
    "import os\n",
    "import pandas as pd\n",
    "from IPython.display import display, Image\n",
    "%load_ext autoreload\n",
    "%autoreload 2\n",
    "\n",
    "%matplotlib inline\n",
    "\n",
    "from utils.utils_label_body_material import *\n",
    "print(\"All libraries imported correctly - ready for the next step!\")\n",
    "\n",
    "# from IPython.core.display import display, HTML\n",
    "# display(HTML(\"<style>.container { width:100% !important; }</style>\"))\n"
   ]
  },
  {
   "cell_type": "markdown",
   "metadata": {},
   "source": [
    "# Step 1: Enter your information (Name + Dataset ID)"
   ]
  },
  {
   "cell_type": "code",
   "execution_count": 2,
   "metadata": {
    "scrolled": true
   },
   "outputs": [
    {
     "name": "stdout",
     "output_type": "stream",
     "text": [
      "Please input your computer Operating System (Windows, Mac, Linux): Windows\n",
      "Please input your preferred name WITHOUT any space: brandon\n",
      "Please input dataset ID: test\n",
      "\n",
      "All information recorded - ready for the next step!\n"
     ]
    }
   ],
   "source": [
    "# Your OS\n",
    "\n",
    "labeler_os = input(\"Please input your computer Operating System (Windows, Mac, Linux): \")\n",
    "while labeler_os not in [\"Windows\", \"Mac\", \"Linux\"]:\n",
    "    labeler_os = input(\"Invalid input Operating System! Please type one of the following (Windows, Mac, Linux): \")\n",
    "\n",
    "# Your name\n",
    "labeler_name = input(\"Please input your preferred name WITHOUT any space: \")\n",
    "dataset_id = input(\"Please input dataset ID: \")\n",
    "print(\"\")\n",
    "print(\"All information recorded - ready for the next step!\")"
   ]
  },
  {
   "cell_type": "markdown",
   "metadata": {},
   "source": [
    "# Step 2: Retrieve images and set up labeling file"
   ]
  },
  {
   "cell_type": "markdown",
   "metadata": {},
   "source": [
    "**Please make sure you have put ALL images to be labeled in the \"bodies_to_be_labeled\" folder!**\n"
   ]
  },
  {
   "cell_type": "code",
   "execution_count": 3,
   "metadata": {},
   "outputs": [
    {
     "name": "stdout",
     "output_type": "stream",
     "text": [
      "Number of bodies retrieved:  27\n",
      "Ready for labeling!\n"
     ]
    }
   ],
   "source": [
    "assembly_paths = os.listdir(\"../bodies_to_be_labeled/\")\n",
    "\n",
    "prompt_images = []\n",
    "\n",
    "for assembly_path in assembly_paths:\n",
    "    \n",
    "    images = get_all_files(f\"../bodies_to_be_labeled/{assembly_path}/\", \"*.jpg\")\n",
    "    \n",
    "    for image in images:\n",
    "        if \"_sep_\" in str(image):\n",
    "            prompt_images.append(image)\n",
    "\n",
    "material_options_firstHalf = [\"Metal_Aluminum\", \"Metal_Ferrous\", \"Metal_Ferrous_Steel\", \"Metal_Non-Ferrous\"]\n",
    "material_options_secondHalf = [\"Paint\", \"Plastic\", \"Wood\", \"Other\"]\n",
    "\n",
    "print(\"Number of bodies retrieved: \", len(prompt_images))\n",
    "    \n",
    "label_info = labeler_name + \"-HumanBaselineEightOptions-\" + dataset_id\n",
    "LABELS_FINAL_OUT_DIR = f\"../labels/{label_info}.csv\"\n",
    "\n",
    "LABELS_FINAL_OUT_DIR = Path(LABELS_FINAL_OUT_DIR)\n",
    "\n",
    "if not LABELS_FINAL_OUT_DIR.exists():\n",
    "    df = pd.DataFrame(list(), columns=['Assembly_Name', 'Body_Name', 'Material Label'])\n",
    "    df.to_csv(f\"../labels/{label_info}.csv\")\n",
    "    \n",
    "print(\"Ready for labeling!\")"
   ]
  },
  {
   "cell_type": "markdown",
   "metadata": {},
   "source": [
    "# Step 2: Start manual labeling\n",
    "## Note: You may restart this code cell (Ctrl+Enter) any time to resume labeling"
   ]
  },
  {
   "cell_type": "code",
   "execution_count": 4,
   "metadata": {
    "pycharm": {
     "name": "#%%\n"
    }
   },
   "outputs": [
    {
     "name": "stdout",
     "output_type": "stream",
     "text": [
      "Annotation Completed.\n"
     ]
    }
   ],
   "source": [
    "# Start manually labeling\n",
    "\n",
    "annotations = annotate_functional_basis(\n",
    "    operating_sys = labeler_os,\n",
    "    label_info = LABELS_FINAL_OUT_DIR,\n",
    "    examples = prompt_images,\n",
    "    options_1 = material_options_firstHalf,\n",
    "    options_2 = material_options_secondHalf,\n",
    "    display_fn=lambda filename: display(Image(filename))\n",
    ")\n"
   ]
  },
  {
   "cell_type": "markdown",
   "metadata": {},
   "source": [
    "# Step 3: Upload your labels to the Google Drive"
   ]
  },
  {
   "cell_type": "markdown",
   "metadata": {},
   "source": [
    "1. Please make sure that you labeled **ALL images** that are to be labeled. (Note: you can check this by re-running the previous cell using Ctrl+Enter)\n",
    "\n",
    "2. Please make sure that you upload the CSV file **\"\\[your name\\]-HumanBaseline-\\[ID\\].csv\"** to the corresponding folder on Google Drive.\n",
    "\n",
    "3. Please also make sure you indicate that you have **\"Finished Labeling\"** your dataset on the spreadsheet."
   ]
  },
  {
   "cell_type": "markdown",
   "metadata": {},
   "source": [
    "# Annotation Finished - Thank You!"
   ]
  }
 ],
 "metadata": {
  "kernelspec": {
   "display_name": "Python 3",
   "language": "python",
   "name": "python3"
  },
  "language_info": {
   "codemirror_mode": {
    "name": "ipython",
    "version": 3
   },
   "file_extension": ".py",
   "mimetype": "text/x-python",
   "name": "python",
   "nbconvert_exporter": "python",
   "pygments_lexer": "ipython3",
   "version": "3.8.5"
  }
 },
 "nbformat": 4,
 "nbformat_minor": 1
}
